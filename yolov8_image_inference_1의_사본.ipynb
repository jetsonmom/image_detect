{
  "nbformat": 4,
  "nbformat_minor": 0,
  "metadata": {
    "colab": {
      "private_outputs": true,
      "provenance": [],
      "gpuType": "T4",
      "authorship_tag": "ABX9TyOfNrTiw81+y/Mbzer63Nhl",
      "include_colab_link": true
    },
    "kernelspec": {
      "name": "python3",
      "display_name": "Python 3"
    },
    "language_info": {
      "name": "python"
    },
    "accelerator": "GPU"
  },
  "cells": [
    {
      "cell_type": "markdown",
      "metadata": {
        "id": "view-in-github",
        "colab_type": "text"
      },
      "source": [
        "<a href=\"https://colab.research.google.com/github/jetsonmom/image_detect/blob/main/yolov8_image_inference_1%EC%9D%98_%EC%82%AC%EB%B3%B8.ipynb\" target=\"_parent\"><img src=\"https://colab.research.google.com/assets/colab-badge.svg\" alt=\"Open In Colab\"/></a>"
      ]
    },
    {
      "cell_type": "code",
      "source": [
        "%pip install ultralytics\n",
        "from ultralytics import YOLO"
      ],
      "metadata": {
        "id": "wnDENN3RXP23"
      },
      "execution_count": null,
      "outputs": []
    },
    {
      "cell_type": "code",
      "source": [
        "# Load a pretrained YOLOv8n model\n",
        "model = YOLO('yolov8n.pt')\n",
        "\n",
        "# Define path to the image file\n",
        "image_path = '/content/sample_data/z.jpg'\n",
        "\n",
        "# Run inference on the source\n",
        "results = model(image_path)  # list of Results objects"
      ],
      "metadata": {
        "id": "U7FjcML_wN7K"
      },
      "execution_count": null,
      "outputs": []
    },
    {
      "cell_type": "code",
      "source": [
        "from ultralytics import YOLO\n",
        "# Load a pretrained YOLOv8n model\n",
        "model = YOLO('yolov8n.pt')\n",
        "# Define path to the image file\n",
        "image_path = '/content/sample_data/z.jpg'\n",
        "# Run inference on the source\n",
        "results = model.predict(image_path)  # list of Results objects\n",
        "first_result = results[0]\n",
        "first_result.show()\n",
        "first_result.save()"
      ],
      "metadata": {
        "id": "B2whmETCvo9j"
      },
      "execution_count": null,
      "outputs": []
    },
    {
      "cell_type": "code",
      "source": [
        "%pip install ultralytics"
      ],
      "metadata": {
        "id": "8N2qL4XB4-CS"
      },
      "execution_count": null,
      "outputs": []
    },
    {
      "cell_type": "code",
      "source": [
        "from ultralytics import YOLO\n",
        "from IPython.display import Image, display\n",
        "\n",
        "# Load a pretrained YOLOv8n model\n",
        "model = YOLO('yolov8n.pt')\n",
        "\n",
        "# Define path to the image file\n",
        "image_path = '/content/sample_data/z.jpg'\n",
        "\n",
        "# Run inference on the source\n",
        "results = model.predict(image_path)  # list of Results objects\n",
        "\n",
        "# Assuming results[0] contains the desired Result object\n",
        "first_result = results[0]\n",
        "first_result.save()  # Make sure to check the correct path of the saved image\n",
        "saved_image_path = '/content/results_z.jpg'  # This path might change depending on your environment and run\n",
        "display(Image(saved_image_path))\n",
        "\n"
      ],
      "metadata": {
        "id": "dJih_Bem5zn4"
      },
      "execution_count": null,
      "outputs": []
    },
    {
      "cell_type": "markdown",
      "source": [
        "yolov8n.pt 파일 다운로드 \"https://docs.ultralytics.com/models/yolov8/#performance-metrics\""
      ],
      "metadata": {
        "id": "xxq2vDEYGHN9"
      }
    },
    {
      "cell_type": "code",
      "source": [
        "%pip install ultralytics"
      ],
      "metadata": {
        "id": "QKam_NSjLacP"
      },
      "execution_count": null,
      "outputs": []
    },
    {
      "cell_type": "code",
      "source": [
        "from ultralytics import YOLO\n",
        "from IPython.display import Image, display\n",
        "\n",
        "#model = YOLO('yolov8n.yaml')  # YAML에서 새 모델 구축\n",
        "model = YOLO('yolov8n.pt')  # 사전 훈련된 모델 로드 (훈련을 위해 권장됨)\n",
        "#model = YOLO('yolov8n.yaml').load('yolov8n.pt')  # YAML에서 구축 및 가중치 전달\n",
        "# Load a pretrained YOLOv8n model\n",
        "\n",
        "# Define path to the image file\n",
        "image_path = '/content/sample_data/a.jpg'\n",
        "\n",
        "# Run inference on the source\n",
        "results = model.predict(image_path)  # list of Results objects\n",
        "\n",
        "# Assuming results[0] contains the desired Result object\n",
        "first_result = results[0]\n",
        "first_result.save()  # Make sure to check the correct path of the saved image\n",
        "saved_image_path = '/content/results_a.jpg'  # This path might change depending on your environment and run\n",
        "display(Image(saved_image_path))\n"
      ],
      "metadata": {
        "id": "WWKNAuHO-yDs"
      },
      "execution_count": null,
      "outputs": []
    }
  ]
}