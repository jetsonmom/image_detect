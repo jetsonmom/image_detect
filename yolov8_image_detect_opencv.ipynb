{
  "nbformat": 4,
  "nbformat_minor": 0,
  "metadata": {
    "colab": {
      "private_outputs": true,
      "provenance": [],
      "gpuType": "T4",
      "authorship_tag": "ABX9TyMp5aYaOipfjeo5b+WgQq+j",
      "include_colab_link": true
    },
    "kernelspec": {
      "name": "python3",
      "display_name": "Python 3"
    },
    "language_info": {
      "name": "python"
    },
    "accelerator": "GPU"
  },
  "cells": [
    {
      "cell_type": "markdown",
      "metadata": {
        "id": "view-in-github",
        "colab_type": "text"
      },
      "source": [
        "<a href=\"https://colab.research.google.com/github/jetsonmom/image_detect/blob/main/yolov8_image_detect_opencv.ipynb\" target=\"_parent\"><img src=\"https://colab.research.google.com/assets/colab-badge.svg\" alt=\"Open In Colab\"/></a>"
      ]
    },
    {
      "cell_type": "code",
      "source": [
        "%pip install ultralytics\n",
        "from ultralytics import YOLO"
      ],
      "metadata": {
        "id": "wnDENN3RXP23"
      },
      "execution_count": null,
      "outputs": []
    },
    {
      "cell_type": "code",
      "source": [
        "# Load a pretrained YOLOv8n model\n",
        "model = YOLO('yolov8n.pt')\n",
        "\n",
        "# Define path to the image file\n",
        "image_path = '/content/sample_data/4.jpg'\n",
        "\n",
        "# Run inference on the source\n",
        "results = model(image_path)  # list of Results objects"
      ],
      "metadata": {
        "id": "U7FjcML_wN7K"
      },
      "execution_count": null,
      "outputs": []
    },
    {
      "cell_type": "code",
      "source": [
        "from ultralytics import YOLO\n",
        "# Load a pretrained YOLOv8n model\n",
        "model = YOLO('yolov8n.pt')\n",
        "# Define path to the image file\n",
        "image_path = '/content/sample_data/z.jpg'\n",
        "# Run inference on the source\n",
        "results = model.predict(image_path)  # list of Results objects\n",
        "first_result = results[0]\n",
        "first_result.show()\n",
        "first_result.save()"
      ],
      "metadata": {
        "id": "B2whmETCvo9j"
      },
      "execution_count": null,
      "outputs": []
    },
    {
      "cell_type": "code",
      "source": [
        "%pip install ultralytics"
      ],
      "metadata": {
        "id": "8N2qL4XB4-CS"
      },
      "execution_count": null,
      "outputs": []
    },
    {
      "cell_type": "code",
      "source": [
        "from ultralytics import YOLO\n",
        "from IPython.display import Image, display\n",
        "\n",
        "# Load a pretrained YOLOv8n model\n",
        "model = YOLO('yolov8n.pt')\n",
        "\n",
        "# Define path to the image file\n",
        "image_path = '/content/sample_data/z.jpg'\n",
        "\n",
        "# Run inference on the source\n",
        "results = model.predict(image_path)  # list of Results objects\n",
        "\n",
        "# Assuming results[0] contains the desired Result object\n",
        "first_result = results[0]\n",
        "first_result.save()  # Make sure to check the correct path of the saved image\n",
        "saved_image_path = '/content/results_z.jpg'  # This path might change depending on your environment and run\n",
        "display(Image(saved_image_path))\n",
        "\n"
      ],
      "metadata": {
        "id": "dJih_Bem5zn4"
      },
      "execution_count": null,
      "outputs": []
    },
    {
      "cell_type": "markdown",
      "source": [
        "yolov8n.pt 파일 다운로드 \"https://docs.ultralytics.com/models/yolov8/#performance-metrics\""
      ],
      "metadata": {
        "id": "xxq2vDEYGHN9"
      }
    },
    {
      "cell_type": "code",
      "source": [
        "%pip install ultralytics"
      ],
      "metadata": {
        "id": "QKam_NSjLacP"
      },
      "execution_count": null,
      "outputs": []
    },
    {
      "cell_type": "code",
      "source": [
        "from ultralytics import YOLO\n",
        "from IPython.display import Image, display\n",
        "\n",
        "#model = YOLO('yolov8n.yaml')  # YAML에서 새 모델 구축\n",
        "model = YOLO('yolov8n.pt')  # 사전 훈련된 모델 로드 (훈련을 위해 권장됨)\n",
        "#model = YOLO('yolov8n.yaml').load('yolov8n.pt')  # YAML에서 구축 및 가중치 전달\n",
        "# Load a pretrained YOLOv8n model\n",
        "\n",
        "# Define path to the image file\n",
        "image_path = '/content/sample_data/a.jpg'\n",
        "\n",
        "# Run inference on the source\n",
        "results = model.predict(image_path)  # list of Results objects\n",
        "\n",
        "# Assuming results[0] contains the desired Result object\n",
        "first_result = results[0]\n",
        "first_result.save()  # Make sure to check the correct path of the saved image\n",
        "saved_image_path = '/content/results_a.jpg'  # This path might change depending on your environment and run\n",
        "display(Image(saved_image_path))\n"
      ],
      "metadata": {
        "id": "WWKNAuHO-yDs"
      },
      "execution_count": null,
      "outputs": []
    },
    {
      "cell_type": "code",
      "source": [
        "import cv2\n",
        "from matplotlib import pyplot as plt\n",
        "\n",
        "# OpenCV Haar Cascade 로드\n",
        "face_cascade = cv2.CascadeClassifier(cv2.data.haarcascades + 'haarcascade_frontalface_default.xml')\n",
        "\n",
        "# 이미지 로드\n",
        "image_path = '/content/sample_data/4.jpg'  # 수정된 경로\n",
        "image = cv2.imread(image_path)\n",
        "\n",
        "# 이미지 로드가 실패하면 오류 메시지 출력\n",
        "if image is None:\n",
        "    print(f\"Failed to load image from {image_path}\")\n",
        "else:\n",
        "    # 이미지를 그레이스케일로 변환 (Haar Cascade는 그레이스케일 이미지에서 작동)\n",
        "    gray_image = cv2.cvtColor(image, cv2.COLOR_BGR2GRAY)\n",
        "\n",
        "    # 얼굴 감지\n",
        "    faces = face_cascade.detectMultiScale(gray_image, scaleFactor=1.1, minNeighbors=5, minSize=(30, 30))\n",
        "\n",
        "    # Colab에서 이미지와 얼굴을 표시하기 위한 함수\n",
        "    def show_image(image, faces=None, title=''):\n",
        "        plt.figure(figsize=(10, 8))\n",
        "        plt.imshow(cv2.cvtColor(image, cv2.COLOR_BGR2RGB))\n",
        "        plt.title(title)\n",
        "        plt.axis('off')\n",
        "        if faces is not None:\n",
        "            for (x, y, w, h) in faces:\n",
        "                rect = plt.Rectangle((x, y), w, h, fill=False, color='red')\n",
        "                plt.gca().add_patch(rect)\n",
        "        plt.show()\n",
        "\n",
        "    # 감지된 얼굴에 경계 상자를 그린 후 전체 이미지 표시\n",
        "    show_image(image, faces, 'Detected Faces')\n"
      ],
      "metadata": {
        "id": "N21OElBBK2Av"
      },
      "execution_count": null,
      "outputs": []
    }
  ]
}