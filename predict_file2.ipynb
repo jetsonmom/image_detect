{
  "nbformat": 4,
  "nbformat_minor": 0,
  "metadata": {
    "colab": {
      "private_outputs": true,
      "provenance": [],
      "gpuType": "T4",
      "authorship_tag": "ABX9TyPWGGAPfzQJ6R8ZTKcifIMl",
      "include_colab_link": true
    },
    "kernelspec": {
      "name": "python3",
      "display_name": "Python 3"
    },
    "language_info": {
      "name": "python"
    },
    "accelerator": "GPU"
  },
  "cells": [
    {
      "cell_type": "markdown",
      "metadata": {
        "id": "view-in-github",
        "colab_type": "text"
      },
      "source": [
        "<a href=\"https://colab.research.google.com/github/jetsonmom/image_detect/blob/main/predict_file2.ipynb\" target=\"_parent\"><img src=\"https://colab.research.google.com/assets/colab-badge.svg\" alt=\"Open In Colab\"/></a>"
      ]
    },
    {
      "cell_type": "code",
      "execution_count": null,
      "metadata": {
        "id": "3mmeggpT_0Dp"
      },
      "outputs": [],
      "source": [
        "!pip install ultralytics"
      ]
    },
    {
      "cell_type": "code",
      "source": [
        "from IPython.display import Image"
      ],
      "metadata": {
        "id": "zybIkmuFAT_1"
      },
      "execution_count": null,
      "outputs": []
    },
    {
      "cell_type": "code",
      "source": [
        "!yolo task=detect mode=predict model=yolov8s.pt source='a.jpg'"
      ],
      "metadata": {
        "id": "GsVWw1XMBGWJ"
      },
      "execution_count": null,
      "outputs": []
    },
    {
      "cell_type": "markdown",
      "source": [],
      "metadata": {
        "id": "0aXOqOUJKdhf"
      }
    },
    {
      "cell_type": "code",
      "source": [
        "!yolo task=detect mode=predict model=yolov8s.pt source='a.jpg'  save_txt=True save_crop=True"
      ],
      "metadata": {
        "id": "8x1h-ptsERs4"
      },
      "execution_count": null,
      "outputs": []
    },
    {
      "cell_type": "markdown",
      "source": [
        "위의 코드 설명\n",
        "task=detect: 객체 탐지 작업을 수행하도록 지시합니다.\n",
        "mode=predict: 모델을 사용하여 예측 모드에서 실행하도록 설정합니다.\n",
        "model=yolov8s.pt: 사용할 사전 훈련된 모델 파일을 지정합니다. 여기서는 yolov8s.pt 모델을 사용합니다.\n",
        "source='a.jpg': 객체 탐지를 수행할 소스 파일을 지정합니다. 이 경우, a.jpg 이미지 파일입니다.\n",
        "save_txt=True: 감지된 각 객체에 대한 정보를 텍스트 파일 형식으로 저장하도록 합니다. 이 파일은 감지된 객체의 클래스 ID, 바운딩 박스 좌표, 그리고 신뢰도 점수를 포함합니다.\n",
        "save_crop=True: 감지된 객체를 이미지에서 잘라내어 개별 파일로 저장하도록 합니다. 즉, 각 객체를 이미지의 나머지 부분에서 분리하여 별도의 이미지 파일로 만듭니다.\n",
        "명령 실행 결과 생성되는 파일들은 다음과 같습니다:\n",
        "\n",
        "crops: 이 폴더는 save_crop=True 옵션으로 인해 생성됩니다. 각 객체에 대한 잘려진(cropped) 이미지들이 이 폴더 안에 저장됩니다. 이를 통해 각 객체를 개별 이미지로 분석할 수 있습니다.\n",
        "labels: save_txt=True 옵션으로 인해 생성되는 labels 폴더는 각 객체의 탐지 정보를 담고 있는 텍스트 파일(.txt)을 포함합니다. 파일 내부에는 클래스 ID, 객체의 바운딩 박스 좌표(x, y, width, height), 그리고 탐지된 객체의 신뢰도(confidence) 점수가 포함되어 있습니다. 바운딩 박스 좌표는 일반적으로 객체를 둘러싸는 직사각형의 중심(x, y) 좌표와 너비(width) 및 높이(height)를 의미합니다.\n",
        "a.jpg: 이는 객체 탐지를 완료한 후의 결과 이미지로, 탐지된 객체들이 바운딩 박스로 표시되어 있습니다."
      ],
      "metadata": {
        "id": "GDd2PldnKvYH"
      }
    },
    {
      "cell_type": "code",
      "source": [
        "from IPython.display import Image, display\n",
        "import os\n",
        "import subprocess\n",
        "\n",
        "# YOLO 명령을 실행합니다. hide_labels와 hide_conf 옵션을 사용합니다.\n",
        "# 이 명령은 셸에서 실행되어야 하며, 셀의 출력을 차단하기 위해 subprocess를 사용합니다.\n",
        "subprocess.run('!yolo task=detect mode=predict model=yolov8s.pt source=\"a.jpg\"'\n",
        "               ' hide_labels=True hide_conf=True', shell=True)\n",
        "\n",
        "# 'runs/detect' 디렉토리 내의 모든 폴더를 찾습니다.\n",
        "runs_directory = 'runs/detect'\n",
        "predict_folders = [os.path.join(runs_directory, d) for d in os.listdir(runs_directory) if os.path.isdir(os.path.join(runs_directory, d))]\n",
        "\n",
        "# 'predict'로 시작하는 폴더 이름을 기준으로 정렬하여 가장 최신 폴더를 찾습니다.\n",
        "latest_folder = max(predict_folders, key=os.path.getmtime)\n",
        "\n",
        "# 가장 최신 폴더 내의 'a.jpg' 파일의 경로를 구성합니다.\n",
        "image_path = os.path.join(latest_folder, 'a.jpg')\n",
        "\n",
        "# 이미지를 표시합니다.\n",
        "display(Image(filename=image_path))\n"
      ],
      "metadata": {
        "id": "fa_cUn51Ix6E"
      },
      "execution_count": null,
      "outputs": []
    },
    {
      "cell_type": "markdown",
      "source": [
        "--boxes=True로도 해본다"
      ],
      "metadata": {
        "id": "r4GnkcEMgH5M"
      }
    },
    {
      "cell_type": "code",
      "source": [
        "!yolo task=segment mode=predict model=yolov8s-seg.pt source='demo.mp4' \\\n",
        " hide_labels=True hide_conf=True conf=0.2 --boxes=True\n"
      ],
      "metadata": {
        "id": "Vq46_DD2gCed"
      },
      "execution_count": null,
      "outputs": []
    },
    {
      "cell_type": "code",
      "source": [
        "import os\n",
        "\n",
        "# Input video path\n",
        "save_path = 'runs/segment/predict2/demo.avi'\n",
        "\n",
        "# Compressed video path\n",
        "compressed_path = \"runs/segment/predict2/demo_segment_compressed.avi\"\n",
        "\n",
        "os.system(f\"ffmpeg -i {save_path} -vcodec libx264 {compressed_path}\")\n"
      ],
      "metadata": {
        "id": "ieBUpMLmgdKx"
      },
      "execution_count": null,
      "outputs": []
    },
    {
      "cell_type": "code",
      "source": [
        "import os\n",
        "\n",
        "# Input video path\n",
        "save_path = 'runs/segment/predict/demo.avi'\n",
        "\n",
        "# Compressed video path\n",
        "compressed_path = \"demo_segment_compressed.avi\"\n",
        "\n",
        "os.system(f\"ffmpeg -i {save_path} -vcodec libx264 {compressed_path}\")\n"
      ],
      "metadata": {
        "id": "3zGXbQPZjGqv"
      },
      "execution_count": null,
      "outputs": []
    },
    {
      "cell_type": "code",
      "source": [
        "!yolo task=detect mode=predict model=yolov8s.pt source='demo.mp4'"
      ],
      "metadata": {
        "id": "eDq97sFkS6R6"
      },
      "execution_count": null,
      "outputs": []
    },
    {
      "cell_type": "code",
      "source": [
        "!yolo task=segment mode=predict model=yolov8s-seg.pt source='output.mp4' \\\n",
        " hide_labels=True hide_conf=True conf=0.2 --boxes=False"
      ],
      "metadata": {
        "id": "hEUPZjYOWzMY"
      },
      "execution_count": null,
      "outputs": []
    },
    {
      "cell_type": "code",
      "source": [
        "!apt install ffmpeg\n",
        "\n",
        "!ffmpeg -i demo.mp4 -vcodec libx264 -crf 30 output.mp4\n"
      ],
      "metadata": {
        "id": "MFiTCBx3U_Tu"
      },
      "execution_count": null,
      "outputs": []
    },
    {
      "cell_type": "code",
      "source": [
        "# Input video path\n",
        "save_path = 'runs/segment/predict2/output.avi'\n",
        "\n",
        "# Compressed video path\n",
        "compressed_path = \"outpu_segment_compressed.mp4\"\n",
        "\n",
        "os.system(f\"ffmpeg -i {save_path} -vcodec libx264 {compressed_path}\")"
      ],
      "metadata": {
        "id": "7FUdK4zhZu7U"
      },
      "execution_count": null,
      "outputs": []
    }
  ]
}