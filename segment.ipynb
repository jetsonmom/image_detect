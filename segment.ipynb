{
  "nbformat": 4,
  "nbformat_minor": 0,
  "metadata": {
    "colab": {
      "private_outputs": true,
      "provenance": [],
      "authorship_tag": "ABX9TyOT2+99Sn6wJru1A9hmxZLC",
      "include_colab_link": true
    },
    "kernelspec": {
      "name": "python3",
      "display_name": "Python 3"
    },
    "language_info": {
      "name": "python"
    }
  },
  "cells": [
    {
      "cell_type": "markdown",
      "metadata": {
        "id": "view-in-github",
        "colab_type": "text"
      },
      "source": [
        "<a href=\"https://colab.research.google.com/github/jetsonmom/image_detect/blob/main/segment.ipynb\" target=\"_parent\"><img src=\"https://colab.research.google.com/assets/colab-badge.svg\" alt=\"Open In Colab\"/></a>"
      ]
    },
    {
      "cell_type": "code",
      "execution_count": null,
      "metadata": {
        "id": "kSMbr_6nnpSG"
      },
      "outputs": [],
      "source": [
        "!pip install ultralytics"
      ]
    },
    {
      "cell_type": "code",
      "source": [
        "!yolo task=detect mode=predict model=yolov8s.pt source='1.mp4'"
      ],
      "metadata": {
        "id": "u1qyrB62n8Fi"
      },
      "execution_count": null,
      "outputs": []
    },
    {
      "cell_type": "code",
      "source": [
        "!apt install ffmpeg\n",
        "#!ffmpeg -i demo.mp4 -vcodec libx264 -crf 30 output.mp4"
      ],
      "metadata": {
        "id": "uMCFVgsToHcS"
      },
      "execution_count": null,
      "outputs": []
    },
    {
      "cell_type": "code",
      "source": [
        "import os\n",
        "\n",
        "# Input video path\n",
        "save_path = 'runs/detect/predict/1.avi'\n",
        "\n",
        "# Compressed video path\n",
        "compressed_path = \"result_compressed.avi\"\n",
        "\n",
        "os.system(f\"ffmpeg -i {save_path} -vcodec libx264 {compressed_path}\")\n"
      ],
      "metadata": {
        "id": "GxfiqLFzo4a9"
      },
      "execution_count": null,
      "outputs": []
    },
    {
      "cell_type": "code",
      "source": [
        "!yolo task=segment mode=predict model=yolov8s-seg.pt source='1.mp4' \\\n",
        " hide_labels=True hide_conf=True conf=0.4 --boxes=False"
      ],
      "metadata": {
        "id": "ROYL1_LT0atd"
      },
      "execution_count": null,
      "outputs": []
    },
    {
      "cell_type": "code",
      "source": [
        "!apt install ffmpeg\n",
        "#!ffmpeg -i demo.mp4 -vcodec libx264 -crf 30 output.mp4\n",
        "\n",
        "import os\n",
        "\n",
        "# Input video path\n",
        "save_path = 'runs/segment/predict/1.avi'\n",
        "\n",
        "# Compressed video path\n",
        "compressed_path = \"segment_1.mp4\"\n",
        "\n",
        "os.system(f\"ffmpeg -i {save_path} -vcodec libx264 {compressed_path}\")"
      ],
      "metadata": {
        "id": "3tg9EdB92Jzo"
      },
      "execution_count": null,
      "outputs": []
    }
  ]
}